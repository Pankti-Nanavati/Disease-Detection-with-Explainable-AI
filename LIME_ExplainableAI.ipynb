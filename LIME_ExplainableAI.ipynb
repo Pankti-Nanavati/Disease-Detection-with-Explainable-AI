{
  "nbformat": 4,
  "nbformat_minor": 0,
  "metadata": {
    "colab": {
      "name": "LIME_Final.ipynb",
      "provenance": [],
      "collapsed_sections": []
    },
    "kernelspec": {
      "name": "python3",
      "display_name": "Python 3"
    },
    "language_info": {
      "name": "python"
    }
  },
  "cells": [
    {
      "cell_type": "code",
      "source": [
        "from PIL import Image\n",
        "import matplotlib.pyplot as plt\n",
        "import numpy as np\n",
        "import cv2\n",
        "import os\n",
        "import numpy as np\n",
        "import keras\n",
        "from google.colab import files\n",
        "from keras.applications.imagenet_utils import decode_predictions\n",
        "import skimage.io \n",
        "import skimage.segmentation\n",
        "import copy\n",
        "import sklearn\n",
        "import sklearn.metrics\n",
        "from sklearn.linear_model import LinearRegression\n",
        "import warnings\n",
        "from keras.models import load_model\n",
        "def perturb_image(img,perturbation,segments):\n",
        "    active_pixels = np.where(perturbation == 1)[0]\n",
        "    mask = np.zeros(segments.shape)\n",
        "    for active in active_pixels:\n",
        "        mask[segments == active] = 1 \n",
        "    perturbed_image = copy.deepcopy(img)\n",
        "    perturbed_image = perturbed_image*mask[:,:,np.newaxis]\n",
        "    return perturbed_image\n",
        "def changeImageSize(maxWidth, maxHeight, image):\n",
        "    widthRatio  = maxWidth/image.size[0]\n",
        "    heightRatio = maxHeight/image.size[1]\n",
        "    newWidth    = int(widthRatio*image.size[0])\n",
        "    newHeight   = int(heightRatio*image.size[1])\n",
        "    newImage    = image.resize((newWidth, newHeight))\n",
        "    return newImage\n",
        "def nparrtoimage(array):\n",
        "    array_n = np.reshape(array, (64, 64,3))\n",
        "    data = Image.fromarray((array_n * 255).astype(np.uint8))\n",
        "    return data\n",
        "def ExplainableAI(image,pre_trained_model):\n",
        "  IMAGE_SIZE = 64\n",
        "  image= cv2.resize(np.array(image.copy()), (IMAGE_SIZE, IMAGE_SIZE), interpolation=cv2.INTER_AREA)\n",
        "  image=image/255.0\n",
        "  normal_image = image\n",
        "  model = pre_trained_model\n",
        "  preds = model.predict(image[np.newaxis,:,:,:])\n",
        "  superpixels = skimage.segmentation.quickshift(image, kernel_size=2,max_dist=200, ratio=0.2)\n",
        "  num_superpixels = np.unique(superpixels).shape[0]\n",
        "  num_perturb = 200\n",
        "  perturbations = np.random.binomial(1, 0.5, size=(num_perturb, num_superpixels))\n",
        "  predictions = []\n",
        "  for pert in perturbations:\n",
        "    perturbed_img = perturb_image(image,pert,superpixels)\n",
        "    pred = model.predict(perturbed_img[np.newaxis,:,:,:])\n",
        "    predictions.append(pred)\n",
        "  predictions = np.array(predictions)\n",
        "  original_image = np.ones(num_superpixels)[np.newaxis,:] #Perturbation with all superpixels enabled \n",
        "  distances = sklearn.metrics.pairwise_distances(perturbations,original_image, metric='cosine').ravel()\n",
        "  kernel_width = 0.25\n",
        "  weights = np.sqrt(np.exp(-(distances**2)/kernel_width**2)) #Kernel function\n",
        "  class_to_explain = 0# has higher probability  \n",
        "  if preds[0][1]>preds[0][0]:\n",
        "    class_to_explain=1\n",
        "  simpler_model = LinearRegression()\n",
        "  simpler_model.fit(X=perturbations, y=predictions[:,:,class_to_explain], sample_weight=weights)\n",
        "  coeff = simpler_model.coef_[0]\n",
        "  num_top_features = 3\n",
        "  top_features = np.argsort(coeff)[-num_top_features:] \n",
        "  mask = np.zeros(num_superpixels) \n",
        "  mask[top_features]= True #Activate top superpixels\n",
        "  skimage.io.imshow(perturb_image(image,mask,superpixels) )\n",
        "  data = nparrtoimage(perturb_image(image,mask,superpixels))\n",
        "  #plt.imshow(data)\n",
        "  data.save('1.png')\n",
        "  data = cv2.imread('1.png')\n",
        "  #colormap = plt.get_cmap('inferno')\n",
        "  heatmap = cv2.applyColorMap(data, cv2.COLORMAP_HOT)\n",
        "  heatmap_image = nparrtoimage(heatmap)\n",
        "  plt.imshow(heatmap_image)\n",
        "  image1 = nparrtoimage(normal_image)\n",
        "  image2 = heatmap_image\n",
        "  image1 = changeImageSize(64, 64, image1)\n",
        "  image2 = changeImageSize(64, 64, image2)\n",
        "  alphaBlended = Image.blend(image1, image2, alpha=.6)\n",
        "  return alphaBlended,class_to_explain"
      ],
      "metadata": {
        "id": "EvmDDAPmZcf-"
      },
      "execution_count": 1,
      "outputs": []
    },
    {
      "cell_type": "code",
      "source": [
        "from google.colab import drive\n",
        "drive.mount('/content/drive')"
      ],
      "metadata": {
        "id": "iEBZL2Kuolv5",
        "colab": {
          "base_uri": "https://localhost:8080/"
        },
        "outputId": "20f6907e-f2f2-4fbf-a543-2638c2fa8660"
      },
      "execution_count": 2,
      "outputs": [
        {
          "output_type": "stream",
          "name": "stdout",
          "text": [
            "Mounted at /content/drive\n"
          ]
        }
      ]
    },
    {
      "cell_type": "code",
      "source": [
        "os.chdir('/content/drive/MyDrive/final_year_project_dataset')\n",
        "model = load_model(\"model.h5\")\n",
        "classes=[\"COVID POSITIVE\",\"COVID NEGATIVE\"]"
      ],
      "metadata": {
        "id": "gJ9svyq2omWQ"
      },
      "execution_count": 3,
      "outputs": []
    },
    {
      "cell_type": "code",
      "source": [
        "trial1 = cv2.imread('Covid_Positive_Jai.png')\n",
        "ans1,result1 = ExplainableAI(trial1,model)\n",
        "plt.imshow(ans1)\n",
        "print(\"RESULT: \",classes[result1])\n",
        "print(\"In the Results (Make sure to see the heatmap part inside the lungs): \\n 1. Red part is the most influential on the result. \\n 2. Green Part has a medium influence on the result. \\n 3. Blue part has the least influence on the result.\")"
      ],
      "metadata": {
        "colab": {
          "base_uri": "https://localhost:8080/",
          "height": 388
        },
        "id": "0hWHv73Io8G9",
        "outputId": "21e31629-12ab-488d-9c14-26d2fdd19c38"
      },
      "execution_count": 30,
      "outputs": [
        {
          "output_type": "stream",
          "name": "stdout",
          "text": [
            "RESULT:  COVID POSITIVE\n",
            "In the Results (Make sure to see the heatmap part inside the lungs): \n",
            " 1. Red part is the most influential on the result. \n",
            " 2. Green Part has a medium influence on the result. \n",
            " 3. Blue part has the least influence on the result.\n"
          ]
        },
        {
          "output_type": "display_data",
          "data": {
            "text/plain": [
              "<Figure size 432x288 with 1 Axes>"
            ],
            "image/png": "[encoded data removed]"
          },
          "metadata": {
            "needs_background": "light"
          }
        }
      ]
    },
    {
      "cell_type": "code",
      "source": [
        "trial2 = cv2.imread('Covid_Negative_Jai.png')\n",
        "ans2,result2 = ExplainableAI(trial2,model)\n",
        "plt.imshow(ans2)\n",
        "print(\"RESULT: \",classes[result2])\n",
        "print(\"In the Results (Make sure to see the heatmap part inside the lungs): \\n 1. Red part is the most influential on the result. \\n 2. Green Part has a medium influence on the result. \\n 3. Blue part has the least influence on the result.\")"
      ],
      "metadata": {
        "colab": {
          "base_uri": "https://localhost:8080/",
          "height": 388
        },
        "id": "xeTu-_2doaiZ",
        "outputId": "e5803be6-2222-4f5a-b78a-145f05d1a70f"
      },
      "execution_count": 31,
      "outputs": [
        {
          "output_type": "stream",
          "name": "stdout",
          "text": [
            "RESULT:  COVID POSITIVE\n",
            "In the Results (Make sure to see the heatmap part inside the lungs): \n",
            " 1. Red part is the most influential on the result. \n",
            " 2. Green Part has a medium influence on the result. \n",
            " 3. Blue part has the least influence on the result.\n"
          ]
        },
        {
          "output_type": "display_data",
          "data": {
            "text/plain": [
              "<Figure size 432x288 with 1 Axes>"
            ],
            "image/png": "[encoded data removed]"
          },
          "metadata": {
            "needs_background": "light"
          }
        }
      ]
    },
    {
      "cell_type": "code",
      "source": [
        "from google.colab import files\n",
        "uploaded = files.upload()\n",
        "for i in uploaded:\n",
        "  upload = i\n",
        "uploaded = cv2.imread(str(i))\n",
        "ans_up,result_up = ExplainableAI(uploaded,model)\n",
        "plt.imshow(ans_up)\n",
        "print(\"************************************************\")\n",
        "print(\"RESULT: \",classes[result_up])\n",
        "print(\"************************************************\")\n",
        "print(\"In the Results (Make sure to see the heatmap part inside the lungs): \\n 1. Red part is the most influential on the result. \\n 2. Green Part has a medium influence on the result. \\n 3. Blue part has the least influence on the result.\")"
      ],
      "metadata": {
        "id": "YV5iXvYCUGH3"
      },
      "execution_count": null,
      "outputs": []
    }
  ]
}